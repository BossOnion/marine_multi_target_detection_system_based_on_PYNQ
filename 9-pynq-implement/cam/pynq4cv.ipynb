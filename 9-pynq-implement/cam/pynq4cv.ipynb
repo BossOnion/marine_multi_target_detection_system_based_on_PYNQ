{
 "cells": [
  {
   "cell_type": "code",
   "execution_count": 1,
   "metadata": {},
   "outputs": [
    {
     "data": {
      "application/javascript": [
       "\n",
       "require(['notebook/js/codecell'], function(codecell) {\n",
       "  codecell.CodeCell.options_default.highlight_modes[\n",
       "      'magic_text/x-csrc'] = {'reg':[/^%%microblaze/]};\n",
       "  Jupyter.notebook.events.one('kernel_ready.Kernel', function(){\n",
       "      Jupyter.notebook.get_cells().map(function(cell){\n",
       "          if (cell.cell_type == 'code'){ cell.auto_highlight(); } }) ;\n",
       "  });\n",
       "});\n"
      ]
     },
     "metadata": {},
     "output_type": "display_data"
    }
   ],
   "source": [
    "from pynq import Overlay\n",
    "from pynq.lib.iic import *\n",
    "from pynq.lib.ov5640_config import *\n",
    "from pynq.lib.video import *\n",
    "from time import sleep\n",
    "import pynq.lib.dma\n",
    "import os\n",
    "import shutil\n",
    "import PIL.Image\n",
    "import cv2\n",
    "import numpy as np\n",
    "import time\n",
    "from matplotlib import pyplot as plt\n",
    "from pynq import Xlnk"
   ]
  },
  {
   "cell_type": "markdown",
   "metadata": {},
   "source": [
    "## Instantiate Overlay and download bitstream"
   ]
  },
  {
   "cell_type": "code",
   "execution_count": 2,
   "metadata": {},
   "outputs": [],
   "source": [
    "cv_ov5640 = Overlay(\"cv_ov5640-soc-5.18.bit\")"
   ]
  },
  {
   "cell_type": "code",
   "execution_count": 3,
   "metadata": {},
   "outputs": [],
   "source": [
    "xlnk=Xlnk() #调用pynq板子特有的库，用于分配地址\n",
    "conv=cv_ov5640.Conv_0 #ip的一个属性\n",
    "pool=cv_ov5640.Pool_0 #ip的一个属性"
   ]
  },
  {
   "cell_type": "markdown",
   "metadata": {},
   "source": [
    "## Instantiate I2C and configure OV5640 Camera"
   ]
  },
  {
   "cell_type": "code",
   "execution_count": 4,
   "metadata": {},
   "outputs": [],
   "source": [
    "iic = AxiIIC(cv_ov5640.ip_dict['axi_iic_0'])\n",
    "address = 0x3c\n",
    "length = 3"
   ]
  },
  {
   "cell_type": "code",
   "execution_count": 5,
   "metadata": {},
   "outputs": [],
   "source": [
    "for config in ov5640_config:\n",
    "    tmp1 = config[0] >> 8;\n",
    "    tmp2 = config[0] & 0xff;\n",
    "    iic.send(address, bytes([tmp1, tmp2, config[1]]), length)"
   ]
  },
  {
   "cell_type": "markdown",
   "metadata": {},
   "source": [
    "# Check the attributes and methods in Overlay"
   ]
  },
  {
   "cell_type": "code",
   "execution_count": 6,
   "metadata": {},
   "outputs": [],
   "source": [
    "#dir(cv_ov5640.image_processing)"
   ]
  },
  {
   "cell_type": "markdown",
   "metadata": {},
   "source": [
    "## Configure image processing IPs"
   ]
  },
  {
   "cell_type": "code",
   "execution_count": 7,
   "metadata": {},
   "outputs": [],
   "source": [
    "bayer2rgb = cv_ov5640.v_demosaic_0\n",
    "bayer2rgb.write(0x10, 1280)\n",
    "bayer2rgb.write(0x18, 720)\n",
    "bayer2rgb.write(0x28, 1)\n",
    "bayer2rgb.write(0x00, 0x81)\n",
    "\n",
    "rgb2hsv = cv_ov5640.image_processing.rgb2hsv_0\n",
    "rgb2hsv.write(0x10, 720)\n",
    "rgb2hsv.write(0x18, 1280)\n",
    "rgb2hsv.write(0x20, 0)\n",
    "rgb2hsv.write(0x00, 0x81)\n",
    "\n",
    "subsample = cv_ov5640.image_processing.subsample_0\n",
    "subsample.write(0x10, 720)\n",
    "subsample.write(0x18, 1280)\n",
    "subsample.write(0x20, 360)\n",
    "subsample.write(0x28, 640)\n",
    "subsample.write(0x00, 0x81)\n",
    "\n",
    "equalizehist = cv_ov5640.image_processing.equalizeHist_0\n",
    "equalizehist.write(0x10, 720)\n",
    "equalizehist.write(0x18, 1280)\n",
    "equalizehist.write(0x20, 0)\n",
    "equalizehist.write(0x00, 0x81)\n",
    "\n",
    "gaussianBlur = cv_ov5640.image_processing.gaussian_0\n",
    "gaussianBlur.write(0x10, 720)\n",
    "gaussianBlur.write(0x18, 1280)\n",
    "gaussianBlur.write(0x20, 0)\n",
    "gaussianBlur.write(0x00, 0x81)\n",
    "\n",
    "sobel = cv_ov5640.image_processing.sobelFilter_0\n",
    "sobel.write(0x10, 720)\n",
    "sobel.write(0x18, 1280)\n",
    "sobel.write(0x20, 0)\n",
    "sobel.write(0x00, 0x81)\n",
    "\n",
    "canny = cv_ov5640.image_processing.canny_edge_0\n",
    "canny.write(0x10, 720)\n",
    "canny.write(0x18, 1280)\n",
    "canny.write(0x20, 80)\n",
    "canny.write(0x28, 80)\n",
    "canny.write(0x00, 0x81)\n",
    "\n",
    "dilation = cv_ov5640.image_processing.xf_dilation_accel_0\n",
    "dilation.write(0x10, 720)\n",
    "dilation.write(0x18, 1280)\n",
    "dilation.write(0x20, 0)\n",
    "dilation.write(0x00, 0x81)\n",
    "\n",
    "erosion = cv_ov5640.image_processing.xf_erosion_accel_0\n",
    "erosion.write(0x10, 720)\n",
    "erosion.write(0x18, 1280)\n",
    "erosion.write(0x20, 0)\n",
    "erosion.write(0x00, 0x81)\n",
    "\n",
    "switch0 = cv_ov5640.image_processing.axis_interconnect_0.xbar\n",
    "switch1 = cv_ov5640.image_processing.axis_interconnect_1.xbar"
   ]
  },
  {
   "cell_type": "markdown",
   "metadata": {},
   "source": [
    "# Define a function using to choose whtich image processing IP is enabled"
   ]
  },
  {
   "cell_type": "code",
   "execution_count": 8,
   "metadata": {},
   "outputs": [],
   "source": [
    "def switch_stream(switch0, switch1, Index):\n",
    "    MaxIndex = 5\n",
    "    switch0.write(0x00, ~0x02)\n",
    "    for i in range(0,MaxIndex + 1):\n",
    "        switch0.write(0x40 + 4*Index, 0x80000000)\n",
    "    switch0.write(0x40 + 4*Index, 0)\n",
    "    switch0.write(0x00, 0x02)\n",
    "\n",
    "    switch1.write(0x00, ~0x02)\n",
    "    for i in range(0,MaxIndex + 1):\n",
    "        switch0.write(0x40 + 4*Index, 0x80000000)\n",
    "    switch1.write(0x40 + 4*0, Index)\n",
    "    switch1.write(0x00, 0x02)\n",
    "    \n",
    "switch_stream(switch0, switch1, 0)"
   ]
  },
  {
   "cell_type": "markdown",
   "metadata": {},
   "source": [
    "## Configure VDMAs"
   ]
  },
  {
   "cell_type": "code",
   "execution_count": 9,
   "metadata": {},
   "outputs": [],
   "source": [
    "vdma0 = cv_ov5640.axi_vdma_0\n",
    "vdma1 = cv_ov5640.axi_vdma_1"
   ]
  },
  {
   "cell_type": "markdown",
   "metadata": {},
   "source": [
    "## Start VDMAs，HDMI monitor will display video streaming from OV5640 camera"
   ]
  },
  {
   "cell_type": "code",
   "execution_count": 10,
   "metadata": {},
   "outputs": [],
   "source": [
    "vdma0.writechannel.mode = VideoMode(1280, 720, 24)\n",
    "vdma1.readchannel.mode = vdma0.writechannel.mode\n",
    "vdma0.readchannel.mode = vdma0.writechannel.mode\n",
    "vdma1.writechannel.mode = vdma0.writechannel.mode\n",
    "\n",
    "vdma0.writechannel.start()\n",
    "vdma0.readchannel.start()\n",
    "vdma1.writechannel.start()\n",
    "vdma1.readchannel.start()\n",
    "vdma0.readchannel.tie(vdma0.writechannel)\n",
    "vdma1.readchannel.tie(vdma1.writechannel)"
   ]
  },
  {
   "cell_type": "markdown",
   "metadata": {},
   "source": [
    "## Capture and display one frame of picture, it may takes 3~5 seconds"
   ]
  },
  {
   "cell_type": "code",
   "execution_count": 11,
   "metadata": {},
   "outputs": [],
   "source": [
    "# while True:\n",
    "#     frame = vdma0.readchannel.readframe()\n",
    "#     if(frame.max() != 0):\n",
    "#         break;"
   ]
  },
  {
   "cell_type": "code",
   "execution_count": 12,
   "metadata": {},
   "outputs": [],
   "source": [
    "# from PIL import Image\n",
    "# import IPython\n",
    "# image = Image.fromarray(frame)\n",
    "# g, b, r = image.split()\n",
    "# image = Image.merge('RGB', [r,g,b])\n",
    "# IPython.display.clear_output(1)\n",
    "# display(image)"
   ]
  },
  {
   "cell_type": "code",
   "execution_count": 13,
   "metadata": {},
   "outputs": [
    {
     "name": "stdout",
     "output_type": "stream",
     "text": [
      "IN_CH1 is 1\n",
      "IN_CH2 is 6\n",
      "IN_CH3 is 16\n",
      "IN_CH4 is 120\n",
      "Finish initial\n"
     ]
    }
   ],
   "source": [
    "#=============================定义卷积函数和池化函数=============================\n",
    "def RunConv(conv,Kx,Ky,Sx,Sy,mode,relu_en,feature_in,W,bias,feature_out):\n",
    "    conv.write(0x10,feature_in.shape[2])\n",
    "    conv.write(0x18,feature_in.shape[0])\n",
    "    conv.write(0x20,feature_in.shape[1])\n",
    "    conv.write(0x28,feature_out.shape[2])\n",
    "    conv.write(0x30,Kx)\n",
    "    conv.write(0x38,Ky)\n",
    "    conv.write(0x40,Sx)\n",
    "    conv.write(0x48,Sy)\n",
    "    conv.write(0x50,mode)\n",
    "    conv.write(0x58,relu_en)\n",
    "    conv.write(0x60,feature_in.physical_address)\n",
    "    conv.write(0x68,W.physical_address)\n",
    "    conv.write(0x70,bias.physical_address)\n",
    "    conv.write(0x78,feature_out.physical_address)\n",
    "    conv.write(0, (conv.read(0)&0x80)|0x01 )\n",
    "    tp=conv.read(0)\n",
    "    while not ((tp>>1)&0x1): #判断是否计算完成\n",
    "        tp=conv.read(0)\n",
    "    #print(tp)\n",
    "\n",
    "def RunPool(pool,Kx,Ky,mode,feature_in,feature_out):\n",
    "    pool.write(0x10,feature_in.shape[2])\n",
    "    pool.write(0x18,feature_in.shape[0])\n",
    "    pool.write(0x20,feature_in.shape[1])\n",
    "    pool.write(0x28,Kx)\n",
    "    pool.write(0x30,Ky)\n",
    "    pool.write(0x38,mode)\n",
    "    pool.write(0x40,feature_in.physical_address)\n",
    "    pool.write(0x48,feature_out.physical_address)\n",
    "    pool.write(0, (pool.read(0)&0x80)|0x01 )\n",
    "    while not ((pool.read(0)>>1)&0x1): #判断是否计算完成\n",
    "        pass \n",
    "#=============================给定各个参数的值===============================#\n",
    "#Conv1 卷积1\n",
    "IN_WIDTH1=28 #图片的宽度\n",
    "IN_HEIGHT1=28 #图片的高度\n",
    "#IN_CH1=3 #3通道彩色图片\n",
    "IN_CH1=1 \n",
    "print('IN_CH1 is',IN_CH1)\n",
    "\n",
    "KERNEL_WIDTH1=3 #卷积核宽度\n",
    "KERNEL_HEIGHT1=3 #卷积核高度\n",
    "X_STRIDE1=1 #移动步长x\n",
    "Y_STRIDE1=1 #移动步长y\n",
    "\n",
    "RELU_EN1 = 1 \n",
    "MODE1=1    #0:VALID, 1:SAME #选择padding\n",
    "#MODE1=0    #0:VALID, 1:SAME #选择padding\n",
    "if(MODE1):\n",
    "    X_PADDING1=int((KERNEL_WIDTH1-1)/2)\n",
    "    Y_PADDING1=int((KERNEL_HEIGHT1-1)/2)\n",
    "else:\n",
    "    X_PADDING1=0\n",
    "    Y_PADDING1=0\n",
    "    \n",
    "OUT_CH1=6  #第一层卷积输出\n",
    "OUT_WIDTH1=int((IN_WIDTH1+2*X_PADDING1-KERNEL_WIDTH1)/X_STRIDE1+1) #输出的宽度\n",
    "OUT_HEIGHT1=int((IN_HEIGHT1+2*Y_PADDING1-KERNEL_HEIGHT1)/Y_STRIDE1+1) #输出的高度\n",
    "\n",
    "#Pool1 池化1\n",
    "MODE11=2  #mode: 0:MEAN, 1:MIN, 2:MAX #选择最大池化\n",
    "IN_WIDTH11=OUT_WIDTH1 #输入宽度为第一层卷积输出的宽度\n",
    "IN_HEIGHT11=OUT_HEIGHT1 #输入高度为第一层卷积输出的高度\n",
    "IN_CH11=OUT_CH1 #\n",
    "\n",
    "KERNEL_WIDTH11=2\n",
    "KERNEL_HEIGHT11=2\n",
    "\n",
    "OUT_CH11=IN_CH11\n",
    "OUT_WIDTH11=int(IN_WIDTH11/KERNEL_WIDTH11)\n",
    "OUT_HEIGHT11=int(IN_HEIGHT11/KERNEL_HEIGHT11)\n",
    "\n",
    "#Conv2 卷积2\n",
    "IN_WIDTH2=OUT_WIDTH11\n",
    "IN_HEIGHT2=OUT_HEIGHT11\n",
    "IN_CH2=OUT_CH11\n",
    "print('IN_CH2 is',IN_CH2)\n",
    "\n",
    "KERNEL_WIDTH2=3\n",
    "KERNEL_HEIGHT2=3\n",
    "X_STRIDE2=1\n",
    "Y_STRIDE2=1\n",
    "\n",
    "RELU_EN2=1\n",
    "MODE2=1  #0:VALID, 1:SAME #选择padding\n",
    "#MODE2=0  #0:VALID, 1:SAME #选择padding\n",
    "if(MODE2):\n",
    "    X_PADDING2=int((KERNEL_WIDTH2-1)/2)\n",
    "    Y_PADDING2=int((KERNEL_HEIGHT2-1)/2)\n",
    "else:\n",
    "    X_PADDING2=0\n",
    "    Y_PADDING2=0\n",
    "\n",
    "OUT_CH2=16\n",
    "OUT_WIDTH2=int((IN_WIDTH2+2*X_PADDING2-KERNEL_WIDTH2)/X_STRIDE2+1)\n",
    "OUT_HEIGHT2=int((IN_HEIGHT2+2*Y_PADDING2-KERNEL_HEIGHT2)/Y_STRIDE2+1)\n",
    "\n",
    "#Pool2 池化2\n",
    "MODE21=2  #mode: 0:MEAN, 1:MIN, 2:MAX\n",
    "IN_WIDTH21=OUT_WIDTH2\n",
    "IN_HEIGHT21=OUT_HEIGHT2\n",
    "IN_CH21=OUT_CH2\n",
    "\n",
    "KERNEL_WIDTH21=2\n",
    "KERNEL_HEIGHT21=2\n",
    "\n",
    "OUT_CH21=IN_CH21\n",
    "OUT_WIDTH21=int(IN_WIDTH21/KERNEL_WIDTH21)\n",
    "OUT_HEIGHT21=int(IN_HEIGHT21/KERNEL_HEIGHT21)\n",
    "\n",
    "#Fc1 全连接1 由于全连接和卷积层的计算原理相同，所以可利用卷积层的ip实现全连接\n",
    "IN_WIDTH3=OUT_WIDTH21\n",
    "IN_HEIGHT3=OUT_HEIGHT21\n",
    "IN_CH3=OUT_CH21\n",
    "print('IN_CH3 is',IN_CH3)\n",
    "\n",
    "KERNEL_WIDTH3=7\n",
    "KERNEL_HEIGHT3=7\n",
    "\n",
    "X_STRIDE3=1\n",
    "Y_STRIDE3=1\n",
    "\n",
    "RELU_EN3=1\n",
    "MODE3=0  #0:VALID, 1:SAME #选择不padding\n",
    "if(MODE3):\n",
    "    X_PADDING3=int((KERNEL_WIDTH3-1/2))\n",
    "    Y_PADDING3=int((KERNEL_HEIGHT3-1)/2)\n",
    "else:\n",
    "    X_PADDING3=0\n",
    "    Y_PADDING3=0\n",
    "\n",
    "OUT_CH3=120\n",
    "OUT_WIDTH3=int((IN_WIDTH3+2*X_PADDING3-KERNEL_WIDTH3)/X_STRIDE3+1)\n",
    "OUT_HEIGHT3=int((IN_HEIGHT3+2*Y_PADDING3-KERNEL_HEIGHT3)/Y_STRIDE3+1)\n",
    "\n",
    "#Fc2 全连接2\n",
    "IN_WIDTH4=OUT_WIDTH3\n",
    "IN_HEIGHT4=OUT_HEIGHT3\n",
    "IN_CH4=OUT_CH3\n",
    "print('IN_CH4 is',IN_CH4)\n",
    "\n",
    "KERNEL_WIDTH4=1\n",
    "KERNEL_HEIGHT4=1\n",
    "X_STRIDE4=1\n",
    "Y_STRIDE4=1\n",
    "\n",
    "RELU_EN4=1\n",
    "MODE4=0  #0:VALID, 1:SAME\n",
    "if(MODE4):\n",
    "    X_PADDING4=int((KERNEL_WIDTH4-1/2))\n",
    "    Y_PADDING4=int((KERNEL_HEIGHT4-1)/2)\n",
    "else:\n",
    "    X_PADDING4=0\n",
    "    Y_PADDING4=0\n",
    "\n",
    "OUT_CH4=10 #最终输出10个通道，对应10个不同数字的结果\n",
    "OUT_WIDTH4=int((IN_WIDTH4+2*X_PADDING4-KERNEL_WIDTH4)/X_STRIDE4+1)\n",
    "OUT_HEIGHT4=int((IN_HEIGHT4+2*Y_PADDING4-KERNEL_HEIGHT4)/Y_STRIDE4+1)\n",
    "\n",
    "#=============================分配存储空间给各个参数===============================#\n",
    "#input image\n",
    "image=xlnk.cma_array(shape=(IN_HEIGHT1,IN_WIDTH1,IN_CH1),cacheable=0,dtype=np.int64) #分配空间给image存储图片\n",
    "#conv1\n",
    "W_conv1=xlnk.cma_array(shape=(KERNEL_HEIGHT1,KERNEL_WIDTH1,IN_CH1,OUT_CH1),cacheable=0,dtype=np.int8) #分配第一层卷积权重的存储空间\n",
    "b_conv1=xlnk.cma_array(shape=(OUT_CH1),cacheable=0,dtype=np.int8) #分配第一层卷积偏置的存储空间\n",
    "h_conv1=xlnk.cma_array(shape=(OUT_HEIGHT1,OUT_WIDTH1,OUT_CH1),cacheable=0,dtype=np.int64) #给池化分配空间\n",
    "h_pool1=xlnk.cma_array(shape=(OUT_HEIGHT11,OUT_WIDTH11,OUT_CH11),cacheable=0,dtype=np.int64) #给池化分配空间\n",
    "#conv2\n",
    "W_conv2=xlnk.cma_array(shape=(KERNEL_HEIGHT2,KERNEL_WIDTH2,IN_CH2,OUT_CH2),cacheable=0,dtype=np.int8)\n",
    "b_conv2=xlnk.cma_array(shape=(OUT_CH2),cacheable=0,dtype=np.int8)\n",
    "h_conv2=xlnk.cma_array(shape=(OUT_HEIGHT2,OUT_WIDTH2,OUT_CH2),cacheable=0,dtype=np.int64)\n",
    "h_pool2=xlnk.cma_array(shape=(OUT_HEIGHT21,OUT_WIDTH21,OUT_CH21),cacheable=0,dtype=np.int64)\n",
    "#fc1\n",
    "W_fc1=xlnk.cma_array(shape=(KERNEL_HEIGHT3, KERNEL_WIDTH3, IN_CH3, OUT_CH3),cacheable=0,dtype=np.int8)\n",
    "b_fc1=xlnk.cma_array(shape=(OUT_CH3),cacheable=0,dtype=np.int8)\n",
    "h_fc1=xlnk.cma_array(shape=(OUT_HEIGHT3,OUT_WIDTH3,OUT_CH3),cacheable=0,dtype=np.int64)\n",
    "#fc2\n",
    "W_fc2=xlnk.cma_array(shape=(KERNEL_HEIGHT4, KERNEL_WIDTH4, IN_CH4, OUT_CH4),cacheable=0,dtype=np.int8)\n",
    "b_fc2=xlnk.cma_array(shape=(OUT_CH4),cacheable=0,dtype=np.int8)\n",
    "h_fc2=xlnk.cma_array(shape=(OUT_HEIGHT4,OUT_WIDTH4,OUT_CH4),cacheable=0,dtype=np.int64)\n",
    "\n",
    "#=============================初始化：读取训练好的参数，并写入分配好的板上存储空间===============================#\n",
    "w_conv1=np.load('/home/xilinx/jupyter_notebooks/record/tensor0.npy', encoding='bytes',allow_pickle=True) #读取第一层卷积的权重\n",
    "B_conv1=np.load('/home/xilinx/jupyter_notebooks/record/tensor1.npy', encoding='bytes',allow_pickle=True) #读取第一层卷积的权重\n",
    "w_conv1=np.transpose(w_conv1,(1,2,3,0))\n",
    "for i in range(KERNEL_HEIGHT1): #将数据写入板子\n",
    "    for j in range(KERNEL_WIDTH1):\n",
    "        for k in range(IN_CH1):\n",
    "        \tfor l in range(OUT_CH1):\n",
    "        \t\tW_conv1[i][j][k][l]=w_conv1[i][j][k][l]\n",
    "for i in range(OUT_CH1): #将数据写入板子\n",
    "    #b_conv1[i]=B_conv1[i]\n",
    "    b_conv1[i]=0\n",
    "#=================================================    \n",
    "w_conv2=np.load('/home/xilinx/jupyter_notebooks/record/tensor2.npy', encoding='bytes',allow_pickle=True) #读取第一层卷积的权重\n",
    "B_conv2=np.load('/home/xilinx/jupyter_notebooks/record/tensor3.npy', encoding='bytes',allow_pickle=True) #读取第一层卷积的权重\n",
    "w_conv2=np.transpose(w_conv2,(1,2,3,0))\n",
    "for i in range(KERNEL_HEIGHT2):\n",
    "    for j in range(KERNEL_WIDTH2):\n",
    "        for k in range(IN_CH2):\n",
    "        \tfor l in range(OUT_CH2):\n",
    "        \t\tW_conv2[i][j][k][l]=w_conv2[i][j][k][l]\n",
    "for i in range(OUT_CH2):\n",
    "    #b_conv2[i]=B_conv2[i]\n",
    "    b_conv2[i]=0\n",
    "#=================================================    \n",
    "w_fc1=np.load('/home/xilinx/jupyter_notebooks/record/tensor4.npy', encoding='bytes',allow_pickle=True) #读取第一层卷积的权重\n",
    "B_fc1=np.load('/home/xilinx/jupyter_notebooks/record/tensor5.npy', encoding='bytes',allow_pickle=True) #读取第一层卷积的权重\n",
    "w_fc1=np.transpose(w_fc1,(1,0))\n",
    "w_fc1=w_fc1.reshape((KERNEL_HEIGHT3,KERNEL_WIDTH3,IN_CH3,OUT_CH3))\n",
    "for i in range(KERNEL_HEIGHT3):\n",
    "    for j in range(KERNEL_WIDTH3):\n",
    "        for k in range(IN_CH3):\n",
    "        \tfor l in range(OUT_CH3):\n",
    "        \t\tW_fc1[i][j][k][l]=w_fc1[i][j][k][l]\n",
    "for i in range(OUT_CH3):\n",
    "    #b_fc1[i]=B_fc1[i]\n",
    "    b_fc1[i]=0\n",
    "#=================================================    \n",
    "w_fc2=np.load('/home/xilinx/jupyter_notebooks/record/tensor6.npy', encoding='bytes',allow_pickle=True) #读取第一层卷积的权重\n",
    "B_fc2=np.load('/home/xilinx/jupyter_notebooks/record/tensor7.npy', encoding='bytes',allow_pickle=True) #读取第一层卷积的权重\n",
    "w_fc2=np.transpose(w_fc2,(1,0))\n",
    "w_fc2=w_fc2.reshape((KERNEL_HEIGHT4,KERNEL_WIDTH4,IN_CH4,OUT_CH4))\n",
    "for i in range(KERNEL_HEIGHT4):\n",
    "    for j in range(KERNEL_WIDTH4):\n",
    "        for k in range(IN_CH4):\n",
    "        \tfor l in range(OUT_CH4):\n",
    "        \t\tW_fc2[i][j][k][l]=w_fc2[i][j][k][l]                                      \n",
    "for i in range(OUT_CH4):\n",
    "    #b_fc2[i]=B_fc2[i]\n",
    "    b_fc2[i]=0\n",
    "#=================================================    \n",
    "print(\"Finish initial\")"
   ]
  },
  {
   "cell_type": "code",
   "execution_count": 14,
   "metadata": {},
   "outputs": [],
   "source": [
    "#=============================手写数字识别===============================#\n",
    "def cnn_mnist_test(photo):\n",
    "\n",
    "    for i in range(IN_HEIGHT1):\n",
    "        for j in range(IN_WIDTH1):\n",
    "            image[i][j][0]=photo[i][j]\n",
    "\n",
    "    #调用卷积ip、池化ip，实现硬件加速\n",
    "    #由于参数是可以重新定义的，所以可对卷积、池化的ip进行复用\n",
    "    start_time=time.time()\n",
    "\t#conv1\n",
    "    RunConv(conv,KERNEL_WIDTH1,KERNEL_HEIGHT1,X_STRIDE1,Y_STRIDE1,MODE1,RELU_EN1,image,W_conv1,b_conv1,h_conv1)\n",
    "    conv1_time=time.time()    \n",
    "    RunPool(pool, KERNEL_WIDTH11, KERNEL_HEIGHT11, MODE11, h_conv1, h_pool1)#池化层是为了缩小图片大小，故没有权重和偏置参数\n",
    "    pool1_time=time.time()\n",
    "\t# conv2\n",
    "    RunConv(conv, KERNEL_WIDTH2, KERNEL_HEIGHT2, X_STRIDE2, Y_STRIDE2, MODE2, RELU_EN2, h_pool1, W_conv2, b_conv2,h_conv2)\n",
    "    conv2_time=time.time()\n",
    "    RunPool(pool, KERNEL_WIDTH21, KERNEL_HEIGHT21, MODE21, h_conv2, h_pool2)\n",
    "    pool2_time=time.time()\n",
    "    # fc1 \n",
    "    RunConv(conv, KERNEL_WIDTH3, KERNEL_HEIGHT3, X_STRIDE3, Y_STRIDE3, MODE3, RELU_EN3, h_pool2, W_fc1, b_fc1,h_fc1)\n",
    "    fc1_time=time.time()\n",
    "    # fc2\n",
    "    RunConv(conv, KERNEL_WIDTH4, KERNEL_HEIGHT4, X_STRIDE4, Y_STRIDE4, MODE4, RELU_EN4, h_fc1, W_fc2, b_fc2,h_fc2)#h_fc2即为推理的最终结果\n",
    "    fc2_time=time.time()\n",
    "\n",
    "    MAX = h_fc2[0][0][0] #初始化第0个数\n",
    "    result=0 #初始化为0\n",
    "    for i in range(1,OUT_CH4):#遍历h_fc2的10个数，找出最大值\n",
    "        if(h_fc2[0][0][i]>MAX): \n",
    "            MAX=h_fc2[0][0][i]\n",
    "            result=i  \n",
    "\n",
    "#     print('the num is:',result)\n",
    "#     print('conv1 use time is:',np.round(conv1_time-start_time,6),'s')\n",
    "#     print('pool1 use time is:',np.round(pool1_time-conv1_time,6),'s')\n",
    "#     print('conv2 use time is:',np.round(conv2_time-pool1_time,6),'s')\n",
    "#     print('pool2 use time is:',np.round(pool2_time-conv2_time,6),'s')\n",
    "#     print('fc1 use time is:',np.round(fc1_time-pool2_time,6),'s')\n",
    "#     print('fc2 use time is:',np.round(fc2_time-fc1_time,6),'s')\n",
    "    total_time=fc2_time-fc1_time+fc1_time-pool2_time+pool2_time-conv2_time+conv2_time-pool1_time+pool1_time-conv1_time+conv1_time-start_time\n",
    "#     print('total use time is:',np.round(total_time,6),'s')            \n",
    "    #print('==========Information==========')\n",
    "    #print('INT8-100MHz')\n",
    "    return(result,np.round(total_time,4))\n",
    "\n"
   ]
  },
  {
   "cell_type": "code",
   "execution_count": 15,
   "metadata": {},
   "outputs": [],
   "source": [
    "# 反相灰度图，将黑白阈值颠倒\n",
    "def accessPiexl(img):\n",
    "    height = img.shape[0]\n",
    "    width = img.shape[1]\n",
    "    for i in range(height):\n",
    "        for j in range(width):\n",
    "            img[i][j] = 255 - img[i][j]\n",
    "    #plt.imshow(img)\n",
    "    #plt.show\n",
    "    return img\n",
    "# 反相二值化图像\n",
    "def accessBinary(img, threshold=128):\n",
    "    # 读取图像\n",
    "    img = accessPiexl(img) # 反相灰度图，将黑白阈值颠倒\n",
    "    # 边缘膨胀，不加也可以\n",
    "    # # 设置膨胀核kenel\n",
    "    kernel = np.ones((3, 3), np.uint8) \n",
    "    # 对图片进行膨胀处理 【https://blog.csdn.net/jndingxin/article/details/113741899】\n",
    "    img = cv2.dilate(img, kernel, iterations=1) \n",
    "    _, img = cv2.threshold(img, threshold, 0, cv2.THRESH_TOZERO)  # 前面的参数0位置应该是255吧？就像后面的代码一样：ret,thresh4 = cv2.threshold(img, 127, 255, cv2.THRESH_TOZERO) \n",
    "    #plt.imshow(img)\n",
    "    #plt.show\n",
    "    return img\n",
    "# 根据长向量找出顶点\n",
    "def extractPeek(array_vals, min_vals=10, min_rect=20):\n",
    "    extrackPoints = []\n",
    "    startPoint = None\n",
    "    endPoint = None\n",
    "    for i, point in enumerate(array_vals):\n",
    "        if point > min_vals and startPoint == None:\n",
    "            startPoint = i\n",
    "        elif point < min_vals and startPoint != None:\n",
    "            endPoint = i\n",
    "\n",
    "        if startPoint != None and endPoint != None:\n",
    "            extrackPoints.append((startPoint, endPoint))\n",
    "            startPoint = None\n",
    "            endPoint = None\n",
    "\n",
    "    # 剔除一些噪点\n",
    "    for point in extrackPoints:\n",
    "        if point[1] - point[0] < min_rect:\n",
    "            extrackPoints.remove(point)\n",
    "    return extrackPoints\n",
    "\n",
    "# 寻找边缘，返回边框的左上角和右下角（利用直方图寻找边缘算法（需行对齐））\n",
    "def findBorderHistogram(img):\n",
    "    borders = []\n",
    "    # 行扫描\n",
    "    hori_vals = np.sum(img, axis=1)\n",
    "    hori_points = extractPeek(hori_vals)\n",
    "    # 根据每一行来扫描列\n",
    "    for hori_point in hori_points:\n",
    "        extractImg = img[hori_point[0]:hori_point[1], :]\n",
    "        vec_vals = np.sum(extractImg, axis=0)\n",
    "        vec_points = extractPeek(vec_vals, min_rect=0)\n",
    "        for vect_point in vec_points:\n",
    "            border = [(vect_point[0], hori_point[0]), (vect_point[1], hori_point[1])]\n",
    "            borders.append(border)\n",
    "    return borders\n",
    "# 寻找边缘，返回边框的左上角和右下角（利用cv2.findContours）\n",
    "def findBorderContours(img, maxArea=50):\n",
    "    _, contours, _ = cv2.findContours(img, cv2.RETR_EXTERNAL, cv2.CHAIN_APPROX_NONE) # 旧版cv2,返回三个值\n",
    "    borders = []\n",
    "    for contour in contours:\n",
    "        # 将边缘拟合成一个边框\n",
    "        x, y, w, h = cv2.boundingRect(contour) # 矩形边框（Bounding Rectangle）是说，用一个最小的矩形，把找到的形状包起来。\n",
    "        if w*h > maxArea:\n",
    "            border = [(x, y), (x+w, y+h)]\n",
    "            borders.append(border)\n",
    "    return borders\n",
    "# 根据边框转换为MNIST格式\n",
    "def transMNIST(img, borders, size=(28, 28)):\n",
    "    imgData = np.zeros((len(borders), size[0], size[0], 1), dtype='uint8')\n",
    "    for i, border in enumerate(borders):\n",
    "        borderImg = img[border[0][1]:border[1][1], border[0][0]:border[1][0]]\n",
    "        # 根据最大边缘拓展像素\n",
    "        extendPiexl = (max(borderImg.shape) - min(borderImg.shape)) // 2\n",
    "        targetImg = cv2.copyMakeBorder(borderImg, 7, 7, extendPiexl + 7, extendPiexl + 7, cv2.BORDER_CONSTANT)\n",
    "        # cv2.copyMakeBorder()函数——图片设置边界框 【https://blog.csdn.net/qq_36560894/article/details/105416273】\n",
    "        targetImg = cv2.resize(targetImg, size) # 调用cv2.resize（）通过插值的方式来改变图像的尺寸 【https://blog.csdn.net/qq_42079689/article/details/102537600】\n",
    "        targetImg = np.expand_dims(targetImg, axis=-1) # 扩展数组的形状【https://blog.csdn.net/qq_37924224/article/details/119816771】\n",
    "        imgData[i] = targetImg\n",
    "        \n",
    "    num_recognize=imgData.shape[0] # 识别到的数字（画框的个数）\n",
    "    print('find',num_recognize,'num to recognize')\n",
    "    imgdataNew=np.zeros((num_recognize,28,28)) # 用新的数组存储要识别的数字\n",
    "    for i in range(num_recognize):\n",
    "        for j in range(28):\n",
    "            for k in range(28):\n",
    "                imgdataNew[i][j][k]=imgData[i][j][k][0]\n",
    "        \n",
    "    imgdataNew=imgdataNew.astype(np.int16)\n",
    "    \n",
    "    return (imgdataNew,num_recognize)\n",
    "# 预测手写数字\n",
    "def predict(imgData,num_recognize):\n",
    "    results=[] # 存放识别结果\n",
    "    run_time=0\n",
    "    for i in range(num_recognize):\n",
    "        res=cnn_mnist_test(imgData[i])\n",
    "        results.append(res[0])\n",
    "        run_time+=res[1]\n",
    "        \n",
    "#         print('finish num',i)\n",
    "    return(results,run_time)\n",
    "# 显示结果及边框\n",
    "def showResults(Hardware_time,CNN_time,img_1, borders, results=None):\n",
    "    # 绘制\n",
    "    #print(img_1.shape)\n",
    "    for i, border in enumerate(borders):\n",
    "        cv2.rectangle(img_1, border[0], border[1], (0, 0, 255)) # 【https://blog.csdn.net/hjxu2016/article/details/77833984】\n",
    "        if results:\n",
    "            cv2.putText(img_1, str(results[i]), border[0], cv2.FONT_HERSHEY_COMPLEX, 0.8, (0, 0, 0), 1)\n",
    "        #cv2.circle(img, border[0], 1, (0, 255, 0), 0)    \n",
    "    cv2.putText(img_1, str('Total time'), (1100,60), cv2.FONT_HERSHEY_COMPLEX, 0.5, (0, 0, 0), 1)\n",
    "    cv2.putText(img_1, str(CNN_time)+'s', (1100,90), cv2.FONT_HERSHEY_COMPLEX, 0.6, (0, 0, 0), 1)\n",
    "    cv2.putText(img_1, str('CNN time'), (1100,110), cv2.FONT_HERSHEY_COMPLEX, 0.5, (0, 0, 0), 1)\n",
    "    cv2.putText(img_1, str(Hardware_time)+'s', (1100,140), cv2.FONT_HERSHEY_COMPLEX, 0.6, (0, 0, 0), 1)\n",
    "    cv2.putText(img_1, 'Find num: '+str(len(results)), (1100,160), cv2.FONT_HERSHEY_COMPLEX, 0.5, (0, 0, 0), 1)\n",
    "    return(img_1)"
   ]
  },
  {
   "cell_type": "code",
   "execution_count": null,
   "metadata": {},
   "outputs": [],
   "source": []
  },
  {
   "cell_type": "code",
   "execution_count": 16,
   "metadata": {},
   "outputs": [],
   "source": [
    "# #camera_in.tie(hdmi_out) # HDMI实时显示\n",
    "# vdma0.readchannel.tie(vdma0.writechannel) # HDMI实时显示"
   ]
  },
  {
   "cell_type": "code",
   "execution_count": 17,
   "metadata": {},
   "outputs": [],
   "source": [
    "def one_test():\n",
    "    time_1=time.time()\n",
    "    # 捕获一张图像\n",
    "#     frame = vdma0.readchannel.readframe()\n",
    "#     img = PIL.Image.fromarray(frame)\n",
    "#     img.save(\"frame.jpg\") # 将捕获的图像保存到本地\n",
    "    print('============捕获图像============')\n",
    "    # 数字识别\n",
    "    path = 'frame.jpg'\n",
    "    img_grey = cv2.imread(path, cv2.IMREAD_GRAYSCALE) \n",
    "    #img_grey = accessBinary(img_grey,150) # 修改数值，改变二值化界限\n",
    "    img_grey = accessBinary(img_grey,200) # 修改数值，改变二值化界限\n",
    "    #print('finish accessBinary')\n",
    "    borders = findBorderContours(img_grey) # 图像分割\n",
    "    #borders = findBorderHistogram(img_grey)\n",
    "    #print('finish borders')\n",
    "    imgData,num_recognize = transMNIST(img_grey, borders) # MNIST格式转换\n",
    "    #print('finish imgData')\n",
    "    results = predict(imgData,num_recognize) # 数字识别\n",
    "    #print('finish results')\n",
    "    print('results are',results[0])\n",
    "    time_2=time.time()\n",
    "    CNN_time=np.round(time_2-time_1,3)\n",
    "    img = cv2.imread(path) # RGB-888\n",
    "    img_result=showResults(results[1],CNN_time,img, borders, results[0]) # 结果画图 RGB-888\n",
    "    #print('finish showResults')\n",
    "    #print('img_result shape is',img_result.shape)\n",
    "    cv2.imwrite(r\"img_result.jpg\",img_result) # 将结果保存为jpg文件\n",
    "    print('============数字识别============')    \n",
    "    # 准备输出帧\n",
    "    img_result_grey=cv2.cvtColor(img_result, cv2.COLOR_RGB2GRAY)  # 结果转化为GRAY\n",
    "    outframe =vdma0.writechannel.newframe()\n",
    "    #print('outframe shape is',outframe.shape)\n",
    "    outframe=cv2.cvtColor(img_result_grey, cv2.COLOR_GRAY2RGB,dst=outframe) ######最终输出仍未黑白图像\n",
    "    # HDMI显示结果\n",
    "    vdma0.writechannel.writeframe(outframe)\n",
    "    vdma1.writechannel.writeframe(outframe)\n",
    "    vdma0.readchannel.start()\n",
    "    vdma1.readchannel.start()\n",
    "#     vdma0.readchannel.tie(vdma0.writechannel) # HDMI实时显示\n",
    "    print('============显示结果============')   \n",
    "        \n",
    "         "
   ]
  },
  {
   "cell_type": "code",
   "execution_count": 18,
   "metadata": {},
   "outputs": [
    {
     "name": "stdout",
     "output_type": "stream",
     "text": [
      "============捕获图像============\n",
      "find 10 num to recognize\n",
      "results are [0, 1, 2, 3, 4, 5, 6, 7, 8, 8]\n",
      "============数字识别============\n",
      "============显示结果============\n"
     ]
    }
   ],
   "source": [
    "one_test()"
   ]
  },
  {
   "cell_type": "code",
   "execution_count": null,
   "metadata": {},
   "outputs": [],
   "source": []
  },
  {
   "cell_type": "code",
   "execution_count": null,
   "metadata": {},
   "outputs": [],
   "source": []
  },
  {
   "cell_type": "markdown",
   "metadata": {},
   "source": [
    "======================="
   ]
  },
  {
   "cell_type": "code",
   "execution_count": 46,
   "metadata": {},
   "outputs": [],
   "source": [
    "def recognition(pic):\n",
    "    # 数字识别\n",
    "    time_1=time.time()\n",
    "    path = pic+'.jpg'\n",
    "    img_grey = cv2.imread(path, cv2.IMREAD_GRAYSCALE) \n",
    "    #img_grey = accessBinary(img_grey,150) # 修改数值，改变二值化界限\n",
    "    img_grey = accessBinary(img_grey,210) # 修改数值，改变二值化界限\n",
    "    #print('finish accessBinary')\n",
    "    borders = findBorderContours(img_grey) # 图像分割\n",
    "    #borders = findBorderHistogram(img_grey)\n",
    "    #print('finish borders')\n",
    "    imgData,num_recognize = transMNIST(img_grey, borders) # MNIST格式转换\n",
    "    #print('finish imgData')\n",
    "    results = predict(imgData,num_recognize) # 数字识别\n",
    "    #print('finish results')\n",
    "    print('results are',results[0])\n",
    "    time_2=time.time()\n",
    "    CNN_time=np.round(time_2-time_1,3)\n",
    "    img = cv2.imread(path) # RGB-888\n",
    "    img_result=showResults(results[1],CNN_time,img, borders, results[0]) # 结果画图 RGB-888\n",
    "    #print('finish showResults')\n",
    "    #print('img_result shape is',img_result.shape)\n",
    "    cv2.imwrite(r\"img_result.jpg\",img_result) # 将结果保存为jpg文件"
   ]
  },
  {
   "cell_type": "code",
   "execution_count": null,
   "metadata": {},
   "outputs": [],
   "source": []
  },
  {
   "cell_type": "code",
   "execution_count": null,
   "metadata": {},
   "outputs": [],
   "source": []
  },
  {
   "cell_type": "code",
   "execution_count": 76,
   "metadata": {},
   "outputs": [],
   "source": [
    "frame = vdma0.readchannel.readframe()\n",
    "img = PIL.Image.fromarray(frame)\n",
    "img.save(\"frame.jpg\") # 将捕获的图像保存到本地"
   ]
  },
  {
   "cell_type": "code",
   "execution_count": 77,
   "metadata": {},
   "outputs": [
    {
     "name": "stdout",
     "output_type": "stream",
     "text": [
      "find 10 num to recognize\n",
      "results are [0, 1, 2, 3, 4, 5, 6, 7, 8, 8]\n"
     ]
    }
   ],
   "source": [
    "recognition('frame')"
   ]
  },
  {
   "cell_type": "code",
   "execution_count": null,
   "metadata": {},
   "outputs": [
    {
     "name": "stdout",
     "output_type": "stream",
     "text": [
      "find 10 num to recognize\n"
     ]
    }
   ],
   "source": [
    "# 数字识别\n",
    "time_1=time.time()\n",
    "path = 'frame.jpg'\n",
    "img_grey = cv2.imread(path, cv2.IMREAD_GRAYSCALE) \n",
    "#img_grey = accessBinary(img_grey,150) # 修改数值，改变二值化界限\n",
    "img_grey = accessBinary(img_grey,210) # 修改数值，改变二值化界限\n",
    "#print('finish accessBinary')\n",
    "borders = findBorderContours(img_grey) # 图像分割\n",
    "#borders = findBorderHistogram(img_grey)\n",
    "#print('finish borders')\n",
    "imgData,num_recognize = transMNIST(img_grey, borders) # MNIST格式转换\n",
    "#print('finish imgData')\n",
    "results = predict(imgData,num_recognize) # 数字识别\n",
    "#print('finish results')\n",
    "print('results are',results[0])\n",
    "time_2=time.time()\n",
    "CNN_time=np.round(time_2-time_1,3)\n",
    "img = cv2.imread(path) # RGB-888\n",
    "img_result=showResults(results[1],CNN_time,img, borders, results[0]) # 结果画图 RGB-888\n",
    "#print('finish showResults')\n",
    "#print('img_result shape is',img_result.shape)\n",
    "cv2.imwrite(r\"img_result.jpg\",img_result) # 将结果保存为jpg文件\n",
    "\n",
    "img_result_grey=cv2.cvtColor(img_result, cv2.COLOR_RGB2GRAY)  # 结果转化为GRAY\n",
    "outframe =vdma0.writechannel.newframe()\n",
    "#print('outframe shape is',outframe.shape)\n",
    "outframe=cv2.cvtColor(img_result_grey, cv2.COLOR_GRAY2RGB,dst=outframe) ######最终输出仍未黑白图像\n",
    "# HDMI显示结果\n",
    "vdma0.writechannel.writeframe(outframe)\n",
    "vdma1.writechannel.writeframe(outframe)\n",
    "vdma0.readchannel.start()\n",
    "vdma1.readchannel.start()"
   ]
  },
  {
   "cell_type": "code",
   "execution_count": null,
   "metadata": {},
   "outputs": [],
   "source": []
  },
  {
   "cell_type": "code",
   "execution_count": 18,
   "metadata": {},
   "outputs": [
    {
     "name": "stdout",
     "output_type": "stream",
     "text": [
      "test\n",
      "============捕获图像============\n",
      "find 20 num to recognize\n",
      "results are [0, 3, 2, 3, 2, 5, 1, 6, 7, 5, 4, 8, 5, 5, 8, 5, 2, 5, 3, 7]\n",
      "============数字识别============\n",
      "============显示结果============\n",
      "test\n",
      "============捕获图像============\n",
      "find 20 num to recognize\n",
      "results are [0, 3, 2, 3, 2, 5, 1, 6, 7, 5, 4, 8, 5, 5, 8, 5, 2, 5, 3, 7]\n",
      "============数字识别============\n"
     ]
    },
    {
     "ename": "RuntimeError",
     "evalue": "DMA channel not started",
     "output_type": "error",
     "traceback": [
      "\u001b[0;31m---------------------------------------------------------------------------\u001b[0m",
      "\u001b[0;31mRuntimeError\u001b[0m                              Traceback (most recent call last)",
      "\u001b[0;32m<ipython-input-18-fca5461cd508>\u001b[0m in \u001b[0;36m<module>\u001b[0;34m()\u001b[0m\n\u001b[1;32m      2\u001b[0m \u001b[0;32mwhile\u001b[0m\u001b[0;34m(\u001b[0m\u001b[0;36m1\u001b[0m\u001b[0;34m)\u001b[0m\u001b[0;34m:\u001b[0m\u001b[0;34m\u001b[0m\u001b[0m\n\u001b[1;32m      3\u001b[0m     \u001b[0mprint\u001b[0m\u001b[0;34m(\u001b[0m\u001b[0;34m'test'\u001b[0m\u001b[0;34m)\u001b[0m\u001b[0;34m\u001b[0m\u001b[0m\n\u001b[0;32m----> 4\u001b[0;31m     \u001b[0mone_test\u001b[0m\u001b[0;34m(\u001b[0m\u001b[0;34m)\u001b[0m\u001b[0;34m\u001b[0m\u001b[0m\n\u001b[0m\u001b[1;32m      5\u001b[0m     \u001b[0mtime\u001b[0m\u001b[0;34m.\u001b[0m\u001b[0msleep\u001b[0m\u001b[0;34m(\u001b[0m\u001b[0;36m10\u001b[0m\u001b[0;34m)\u001b[0m\u001b[0;34m\u001b[0m\u001b[0m\n\u001b[1;32m      6\u001b[0m \u001b[0;31m#     vdma0.writechannel.stop()\u001b[0m\u001b[0;34m\u001b[0m\u001b[0;34m\u001b[0m\u001b[0m\n",
      "\u001b[0;32m<ipython-input-17-ea09729b1588>\u001b[0m in \u001b[0;36mone_test\u001b[0;34m()\u001b[0m\n\u001b[1;32m     35\u001b[0m     \u001b[0;31m# HDMI显示结果\u001b[0m\u001b[0;34m\u001b[0m\u001b[0;34m\u001b[0m\u001b[0m\n\u001b[1;32m     36\u001b[0m     \u001b[0mvdma0\u001b[0m\u001b[0;34m.\u001b[0m\u001b[0mwritechannel\u001b[0m\u001b[0;34m.\u001b[0m\u001b[0mwriteframe\u001b[0m\u001b[0;34m(\u001b[0m\u001b[0moutframe\u001b[0m\u001b[0;34m)\u001b[0m\u001b[0;34m\u001b[0m\u001b[0m\n\u001b[0;32m---> 37\u001b[0;31m     \u001b[0mvdma1\u001b[0m\u001b[0;34m.\u001b[0m\u001b[0mwritechannel\u001b[0m\u001b[0;34m.\u001b[0m\u001b[0mwriteframe\u001b[0m\u001b[0;34m(\u001b[0m\u001b[0moutframe\u001b[0m\u001b[0;34m)\u001b[0m\u001b[0;34m\u001b[0m\u001b[0m\n\u001b[0m\u001b[1;32m     38\u001b[0m     \u001b[0mvdma0\u001b[0m\u001b[0;34m.\u001b[0m\u001b[0mreadchannel\u001b[0m\u001b[0;34m.\u001b[0m\u001b[0mstart\u001b[0m\u001b[0;34m(\u001b[0m\u001b[0;34m)\u001b[0m\u001b[0;34m\u001b[0m\u001b[0m\n\u001b[1;32m     39\u001b[0m     \u001b[0mvdma1\u001b[0m\u001b[0;34m.\u001b[0m\u001b[0mreadchannel\u001b[0m\u001b[0;34m.\u001b[0m\u001b[0mstart\u001b[0m\u001b[0;34m(\u001b[0m\u001b[0;34m)\u001b[0m\u001b[0;34m\u001b[0m\u001b[0m\n",
      "\u001b[0;32m/usr/local/lib/python3.6/dist-packages/pynq/lib/video/dma.py\u001b[0m in \u001b[0;36mwriteframe\u001b[0;34m(self, frame)\u001b[0m\n\u001b[1;32m    452\u001b[0m             \"\"\"\n\u001b[1;32m    453\u001b[0m             \u001b[0;32mif\u001b[0m \u001b[0;32mnot\u001b[0m \u001b[0mself\u001b[0m\u001b[0;34m.\u001b[0m\u001b[0mrunning\u001b[0m\u001b[0;34m:\u001b[0m\u001b[0;34m\u001b[0m\u001b[0m\n\u001b[0;32m--> 454\u001b[0;31m                 \u001b[0;32mraise\u001b[0m \u001b[0mRuntimeError\u001b[0m\u001b[0;34m(\u001b[0m\u001b[0;34m'DMA channel not started'\u001b[0m\u001b[0;34m)\u001b[0m\u001b[0;34m\u001b[0m\u001b[0m\n\u001b[0m\u001b[1;32m    455\u001b[0m             \u001b[0;32mwhile\u001b[0m \u001b[0mself\u001b[0m\u001b[0;34m.\u001b[0m\u001b[0m_mmio\u001b[0m\u001b[0;34m.\u001b[0m\u001b[0mread\u001b[0m\u001b[0;34m(\u001b[0m\u001b[0;36m0x04\u001b[0m\u001b[0;34m)\u001b[0m \u001b[0;34m&\u001b[0m \u001b[0;36m0x1000\u001b[0m \u001b[0;34m==\u001b[0m \u001b[0;36m0\u001b[0m\u001b[0;34m:\u001b[0m\u001b[0;34m\u001b[0m\u001b[0m\n\u001b[1;32m    456\u001b[0m                 \u001b[0mloop\u001b[0m \u001b[0;34m=\u001b[0m \u001b[0masyncio\u001b[0m\u001b[0;34m.\u001b[0m\u001b[0mget_event_loop\u001b[0m\u001b[0;34m(\u001b[0m\u001b[0;34m)\u001b[0m\u001b[0;34m\u001b[0m\u001b[0m\n",
      "\u001b[0;31mRuntimeError\u001b[0m: DMA channel not started"
     ]
    }
   ],
   "source": [
    "import time\n",
    "while(1):\n",
    "    print('test')\n",
    "    one_test()\n",
    "    time.sleep(10)\n",
    "#     vdma0.writechannel.stop()\n",
    "#     vdma0.readchannel.stop()\n",
    "#     vdma1.writechannel.stop()\n",
    "#     vdma1.readchannel.stop()\n",
    "#     print('stop')\n",
    "#     vdma0.writechannel.start()\n",
    "#     vdma0.readchannel.start()\n",
    "#     vdma1.writechannel.start()\n",
    "#     vdma1.readchannel.start()\n",
    "#     print('start')\n",
    "    vdma0.readchannel.tie(vdma0.writechannel) # HDMI实时显示\n",
    "    vdma1.readchannel.tie(vdma1.writechannel)# HDMI实时显示\n",
    "    "
   ]
  },
  {
   "cell_type": "code",
   "execution_count": null,
   "metadata": {},
   "outputs": [],
   "source": [
    "# 一次识别\n",
    "one_test()\n",
    "# PIL.Image.open('img_result.jpg')"
   ]
  },
  {
   "cell_type": "code",
   "execution_count": 17,
   "metadata": {},
   "outputs": [],
   "source": [
    "#camera_in.tie(hdmi_out) # HDMI实时显示\n",
    "vdma0.readchannel.tie(vdma0.writechannel) # HDMI实时显示\n",
    "vdma1.readchannel.tie(vdma1.writechannel)# HDMI实时显示"
   ]
  },
  {
   "cell_type": "code",
   "execution_count": 31,
   "metadata": {},
   "outputs": [],
   "source": [
    "vdma0.writechannel.stop()\n",
    "vdma0.readchannel.stop()\n",
    "vdma1.writechannel.stop()\n",
    "vdma1.readchannel.stop()"
   ]
  },
  {
   "cell_type": "code",
   "execution_count": null,
   "metadata": {},
   "outputs": [],
   "source": [
    "\n",
    "\n",
    "# cv_ov5640 = Overlay(\"cv_ov5640-soc-5.18.bit\")\n",
    "vdma0.writechannel.start()\n",
    "vdma0.readchannel.start()\n",
    "vdma1.writechannel.start()\n",
    "vdma1.readchannel.start()\n",
    "#camera_in.tie(hdmi_out) # HDMI实时显示\n",
    "vdma0.readchannel.tie(vdma0.writechannel)\n",
    "vdma1.readchannel.tie(vdma1.writechannel)# HDMI实时显示"
   ]
  },
  {
   "cell_type": "code",
   "execution_count": 22,
   "metadata": {},
   "outputs": [],
   "source": [
    "#camera_in.tie(hdmi_out) # HDMI实时显示\n",
    "vdma0.readchannel.tie(vdma0.writechannel) # HDMI实时显示\n",
    "vdma1.readchannel.tie(vdma1.writechannel)# HDMI实时显示"
   ]
  },
  {
   "cell_type": "markdown",
   "metadata": {},
   "source": [
    "# 分割线===================="
   ]
  },
  {
   "cell_type": "code",
   "execution_count": 33,
   "metadata": {},
   "outputs": [
    {
     "name": "stdout",
     "output_type": "stream",
     "text": [
      "============捕获图像============\n"
     ]
    }
   ],
   "source": [
    "# 捕获一张图像\n",
    "#frame = camera_in.readframe()\n",
    "frame = vdma0.readchannel.readframe()\n",
    "img = PIL.Image.fromarray(frame)\n",
    "img.save(\"frame.jpg\") # 将捕获的图像保存到本地\n",
    "print('============捕获图像============')"
   ]
  },
  {
   "cell_type": "code",
   "execution_count": 34,
   "metadata": {},
   "outputs": [
    {
     "name": "stdout",
     "output_type": "stream",
     "text": [
      "find 1 num to recognize\n",
      "finish num 0\n",
      "results are [9]\n"
     ]
    },
    {
     "data": {
      "image/png": "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§¬«ªª¬ª¬©«¨¬©«ª¬®¯®®­­¬­­­­­«­¬ª©«¬®©ª¨§¨«©©©©¦­¨¨§¨¨§¦¥¤¦¥¨©¨ª­§¨§¨¦ª¦¨¦¥¥¥¦§§£~¥©ª«¨¨§¨§«©§¥§©¨§«¨©ª¨¦§¤¥§¨¨©¨©§ª¤ª¥¥¦§¥¨§§¤~¦£|¥~§©¨©§¦¤~¥§«¨¦¨¨¥¦¦¦¦¦¥¥~¥¦¤¤¥~¥~¡z¤|§¨¦¥}¦~§¤|¦~¦~¦~¥~¦¦¦¨¦¢{§¦¦§¥}£|¥~¦¦£}£|¢|¤~¥¥~¤~¦¡|¤y¦ y y£}¦¦¦~¥}¦}¦~¦~¤}£|xyxy {£} y¦}¥}£y¥{¦}¤|¥}¤}¥~¢|¥~¢{¦£{¥|£{¥}¤|¥}¤|¤|¦¦~£{§~£{¦~¤}£{¥}¦~¦~ y z¢|¡{£|¡z¢yx z¢|£}x¢|zx¢{¥}¤|§~¢zww¢y£y¦z¡u§{¦{§|£x¥z¥{£y yx¡y¤{¡w¢x¥|£y£{ xww x¡z¡z¢z x¢y xxw¡y¢z¦{¡w v v¥| w¢x¡w¤z¤z¥z¤z¢x¡w¢wu¡v¤z£y w w¡x£{¡z£|¡z£{£z¦{¡x¡w¡x¡xv¡y£z v¦|¦z¥y¦z¥z¤y£y¥{¡w¢w¤y£w u¢v¢v£v£v¤v£v£v¢v¡v¡w¤z¢zv v¢w¢v£u£v¦x£v¦x¥x¦x£u¡t¡u¢v¢v¡t s¡t u¤xsssqq s¡t¡t¤x¢u¢u¡s¡t£uqqrrq¡s¡s¡s¢t£to¡q¡qmpprr sqq r¡s r r srrrsss s¡s¢s¢t r¡s¡t t t¡t£uprr£u£tqq r¡r¢s¢s q q¢rpoq¡s rpppqrppp qnq srp sp snppmo ronm qopno¢q p plonq rpq¡rqn rppmmpmllloolmnm pnllmnoonomllonn qkpqqmlllmkijjjkllllmolmmkkljjij nnjkljkkjjnjjkmhhfgijjnggfhhjjmjijjjjjkeighgihjfhigghfhcdfecdcccgabcg~dkgeefccdeaeefabcb}^}^~`b~bdfe}b~c~bc}a~dgzaw^|bdf~cd}b|_|]~%^§¹\"¨ºl¥¸¦¹¡´~¤·¡´£·¡µ¤¹ µ¢¶¤¹¥»¡·¥»¤º£¹ ¶µ´¡·´¡¶ µ²²²³µ´¡·´³~´¶ ·¶¡·£¹³´ ¶¡·µ¡·¡¸ ¸µµµµ¡·µ³¢·¡¶´°~²~²~³³³³~´´µµ~¶ ¶¡·µ¡·¢¸¡·´²~³³±²³³¯}²®|¯~±±²³²¢¶²²´¡¶£¸´²²°~² ´ ´² µ³³³¡¶¡¶¢·²³³¡¶¡¶ ¶±~²²²°~±~¯}¯}² ´ ´¡¶¢¸ ¶µ´³¢¸¡¶¡¶¡¶³ ´¡¶³ ¶ ¶ ¶¡·¡·´ µ¡µ¡µ³°°²±¢µ³²³³´ µ´¡¶ µ³²±³µ²²²°² µ³ µ³¢¶£·³³£¶¢µ² µ¢·¢·¡¶¡¶¡¶´´³¡·¡·µ³³³³²¡µ¡µ¤¹´²±±² ´¡µ²³£·³ ´³£º¶´²³´´µ¶³®|±²² ´²²±°°±±±±²³³²² ³µ³² µ ¶³²´ ·³²³¡µ²±± ³¡´²³³±³´´´´³²³³³³´±²±²³°²³ ´²²²³³µ± µ²± µ²±³±±³±±°¯¬¯±¡µ¢·´¡·´ · ¶³¡·³³³°²±¯°°²¯°¯¯¯¯¯°±²°± ³¢µ£¶¢µ±³³´³´´°°°¯°³³±±± ³°±°¯¬®¯­®¯®¬©}¯¬«­¯¯«®­®¯®®¯¯®­®¯°¯®¯°°«¯¯¯¯¯¯¯¯±³±¯°±¯°±°¯¯°°¯°±¯®®­¬®±±«¯®¯±±­¯­¬­®¯°²±°±¯­®®®¯¯¯¬¯­®®¯¬¬­®­­¯¯¬®¯°­®®°°°±°®®®­­­­¯°¯®®®®®®¯±¯¯¯­¬¬¬®®®¬®«©¬¬«¬¬¬¬®®¯±¡³°¯¯¯®®¯®­¬©­©©«««««ªª®­¬¬®®®ª®­­¬«¨¬¨«««©¬ªª«¬¬¬«®¬¬««¦¬©ª«®«®«¬¬«ªª©ªª®ª®««ª¬®°­­­­®­«©¨«ª«¦ª§­«ª§ª¦¬©«©ª©­¨§¦¦¦©¦¬ª§¨©¨¨§¨§ª§¨¦§©¨§¨¨¨§©«ª§§FjHkunsXmLXyNQAfuejjecBj/oPgLeaXAfyG/HsXGAP9HICvAvgPAI7l9QTgH8gY/xeAH73oMbzA2P4wMuvmDXIhPgO2kKzl+ZH8/Iz8/g0XfdzPM44fBvBFOUf/FszQeKTPD4C/DuC3AXwFwD8HszcemXMENi56FkAH3nX9uR/knIBx72fk35+5hGN6Boy569zw0cHrPyJjehrAOwfPv6zz4L4zdh/72Mc+HvO4aOhmH/vYxz728TLHfqLfxz72sY/HPPYT/T72sY99POaxn+j3sY997OMxj/1Ev4997GMfj3nsJ/p97GMf+3jMYz/R72Mf+9jHYx77iX4f+9jHPh7z+P8cKy15bSmxMAAAAABJRU5ErkJggg==\n",
      "text/plain": [
       "<matplotlib.figure.Figure at 0xa24256d0>"
      ]
     },
     "metadata": {},
     "output_type": "display_data"
    }
   ],
   "source": [
    "\n",
    "# 数字识别\n",
    "path = 'frame.jpg'\n",
    "img_grey = cv2.imread(path, cv2.IMREAD_GRAYSCALE) \n",
    "img_grey = accessBinary(img_grey,50) # 修改数值，改变二值化界限\n",
    "#print('finish accessBinary')\n",
    "borders = findBorderContours(img_grey) # 图像分割\n",
    "#borders = findBorderHistogram(img_grey)\n",
    "#print('finish borders')\n",
    "imgData,num_recognize = transMNIST(img_grey, borders) # MNIST格式转换\n",
    "#print('finish imgData')\n",
    "results = predict(imgData,num_recognize) # 数字识别\n",
    "#print('finish results')\n",
    "print('results are',results)"
   ]
  },
  {
   "cell_type": "code",
   "execution_count": 39,
   "metadata": {},
   "outputs": [
    {
     "name": "stdout",
     "output_type": "stream",
     "text": [
      "(720, 1280, 3)\n",
      "finish showResults\n",
      "img_result shape is (720, 1280, 3)\n"
     ]
    },
    {
     "data": {
      "text/plain": [
       "True"
      ]
     },
     "execution_count": 39,
     "metadata": {},
     "output_type": "execute_result"
    }
   ],
   "source": [
    "img = cv2.imread(path) # RGB-888\n",
    "img_result=showResults(img, borders, results) # 结果画图 RGB-888\n",
    "print('finish showResults')\n",
    "print('img_result shape is',img_result.shape)\n",
    "cv2.imwrite(r\"img_result.jpg\",img_result) # 将结果保存为jpg文件"
   ]
  },
  {
   "cell_type": "code",
   "execution_count": 40,
   "metadata": {},
   "outputs": [
    {
     "name": "stdout",
     "output_type": "stream",
     "text": [
      "============数字识别============\n"
     ]
    }
   ],
   "source": [
    "print('============数字识别============')    \n",
    "# 准备输出帧\n",
    "img_result_grey=cv2.cvtColor(img_result, cv2.COLOR_RGB2GRAY)  # 结果转化为GRAY"
   ]
  },
  {
   "cell_type": "code",
   "execution_count": 41,
   "metadata": {},
   "outputs": [
    {
     "name": "stdout",
     "output_type": "stream",
     "text": [
      "outframe shape is (720, 1280, 3)\n"
     ]
    }
   ],
   "source": [
    "\n",
    "outframe =vdma0.writechannel.newframe()\n",
    "print('outframe shape is',outframe.shape)"
   ]
  },
  {
   "cell_type": "code",
   "execution_count": 42,
   "metadata": {},
   "outputs": [],
   "source": [
    "outframe=cv2.cvtColor(img_result_grey, cv2.COLOR_GRAY2RGB,dst=outframe) ######最终输出仍未黑白图像\n",
    "# HDMI显示结果\n"
   ]
  },
  {
   "cell_type": "code",
   "execution_count": 43,
   "metadata": {},
   "outputs": [],
   "source": [
    "vdma0.writechannel.writeframe(outframe)"
   ]
  },
  {
   "cell_type": "code",
   "execution_count": 44,
   "metadata": {},
   "outputs": [
    {
     "name": "stdout",
     "output_type": "stream",
     "text": [
      "============显示结果============\n"
     ]
    }
   ],
   "source": [
    "\n",
    "vdma0.readchannel.tie(vdma0.writechannel) # HDMI实时显示\n",
    "print('============显示结果============')   "
   ]
  },
  {
   "cell_type": "markdown",
   "metadata": {},
   "source": [
    "# 分割线===================="
   ]
  },
  {
   "cell_type": "code",
   "execution_count": null,
   "metadata": {},
   "outputs": [],
   "source": []
  },
  {
   "cell_type": "code",
   "execution_count": null,
   "metadata": {},
   "outputs": [],
   "source": []
  },
  {
   "cell_type": "code",
   "execution_count": null,
   "metadata": {},
   "outputs": [],
   "source": []
  },
  {
   "cell_type": "code",
   "execution_count": 26,
   "metadata": {},
   "outputs": [
    {
     "ename": "AttributeError",
     "evalue": "'S2MMChannel' object has no attribute 'close'",
     "output_type": "error",
     "traceback": [
      "\u001b[0;31m---------------------------------------------------------------------------\u001b[0m",
      "\u001b[0;31mAttributeError\u001b[0m                            Traceback (most recent call last)",
      "\u001b[0;32m<ipython-input-26-3a96e63cca93>\u001b[0m in \u001b[0;36m<module>\u001b[0;34m()\u001b[0m\n\u001b[1;32m      1\u001b[0m \u001b[0;31m# 释放 HDMI & OV5640\u001b[0m\u001b[0;34m\u001b[0m\u001b[0;34m\u001b[0m\u001b[0m\n\u001b[1;32m      2\u001b[0m \u001b[0;31m# 关闭 HDMI\u001b[0m\u001b[0;34m\u001b[0m\u001b[0;34m\u001b[0m\u001b[0m\n\u001b[0;32m----> 3\u001b[0;31m \u001b[0mvdma0\u001b[0m\u001b[0;34m.\u001b[0m\u001b[0mreadchannel\u001b[0m\u001b[0;34m.\u001b[0m\u001b[0mclose\u001b[0m\u001b[0;34m(\u001b[0m\u001b[0;34m)\u001b[0m\u001b[0;34m\u001b[0m\u001b[0m\n\u001b[0m\u001b[1;32m      4\u001b[0m \u001b[0;31m# 关闭 OV5640\u001b[0m\u001b[0;34m\u001b[0m\u001b[0;34m\u001b[0m\u001b[0m\n\u001b[1;32m      5\u001b[0m \u001b[0mvdma0\u001b[0m\u001b[0;34m.\u001b[0m\u001b[0mwritechannel\u001b[0m\u001b[0;34m.\u001b[0m\u001b[0mclose\u001b[0m\u001b[0;34m(\u001b[0m\u001b[0;34m)\u001b[0m\u001b[0;34m\u001b[0m\u001b[0m\n",
      "\u001b[0;31mAttributeError\u001b[0m: 'S2MMChannel' object has no attribute 'close'"
     ]
    }
   ],
   "source": [
    "# 释放 HDMI & OV5640\n",
    "# 关闭 HDMI\n",
    "vdma0.readchannel.close()\n",
    "# 关闭 OV5640\n",
    "vdma0.writechannel.close()\n",
    "del vdma0.writechannel, vdma0.readchannel"
   ]
  },
  {
   "cell_type": "markdown",
   "metadata": {},
   "source": [
    "## Enable different image processing IPs on PL"
   ]
  },
  {
   "cell_type": "markdown",
   "metadata": {},
   "source": [
    "### Enable rgb2hsv IP"
   ]
  },
  {
   "cell_type": "code",
   "execution_count": 12,
   "metadata": {},
   "outputs": [],
   "source": [
    "switch_stream(switch0, switch1, 1)"
   ]
  },
  {
   "cell_type": "markdown",
   "metadata": {},
   "source": [
    "### Enable subsample IP"
   ]
  },
  {
   "cell_type": "code",
   "execution_count": 13,
   "metadata": {},
   "outputs": [],
   "source": [
    "switch_stream(switch0, switch1, 2)\n",
    "for i in range(len(vdma1.writechannel._frames)):\n",
    "    vdma1.readchannel._frames[i].fill(0)\n",
    "    vdma1.readchannel._frames[i].fill(0)"
   ]
  },
  {
   "cell_type": "markdown",
   "metadata": {},
   "source": [
    "### Enable equalizehist IP"
   ]
  },
  {
   "cell_type": "code",
   "execution_count": 14,
   "metadata": {},
   "outputs": [],
   "source": [
    "switch_stream(switch0, switch1, 3)"
   ]
  },
  {
   "cell_type": "markdown",
   "metadata": {},
   "source": [
    "### Enable gaussianBlur IP"
   ]
  },
  {
   "cell_type": "code",
   "execution_count": 15,
   "metadata": {},
   "outputs": [],
   "source": [
    "switch_stream(switch0, switch1, 4)"
   ]
  },
  {
   "cell_type": "markdown",
   "metadata": {},
   "source": [
    "### Enable sobel x IP"
   ]
  },
  {
   "cell_type": "code",
   "execution_count": 16,
   "metadata": {},
   "outputs": [],
   "source": [
    "switch_stream(switch0, switch1, 5)"
   ]
  },
  {
   "cell_type": "markdown",
   "metadata": {},
   "source": [
    "### Enable sobel y IP"
   ]
  },
  {
   "cell_type": "code",
   "execution_count": 17,
   "metadata": {},
   "outputs": [],
   "source": [
    "sobel.write(0x20, 1)"
   ]
  },
  {
   "cell_type": "markdown",
   "metadata": {},
   "source": [
    "### Enable canny IP"
   ]
  },
  {
   "cell_type": "code",
   "execution_count": 18,
   "metadata": {},
   "outputs": [],
   "source": [
    "switch_stream(switch0, switch1, 6)"
   ]
  },
  {
   "cell_type": "markdown",
   "metadata": {},
   "source": [
    "### Enable dilation IP"
   ]
  },
  {
   "cell_type": "code",
   "execution_count": 19,
   "metadata": {},
   "outputs": [],
   "source": [
    "switch_stream(switch0, switch1, 7)"
   ]
  },
  {
   "cell_type": "markdown",
   "metadata": {},
   "source": [
    "### Enable erosion IP"
   ]
  },
  {
   "cell_type": "code",
   "execution_count": 20,
   "metadata": {},
   "outputs": [],
   "source": [
    "switch_stream(switch0, switch1, 8)"
   ]
  },
  {
   "cell_type": "markdown",
   "metadata": {},
   "source": [
    "### Disable all image processing IPs"
   ]
  },
  {
   "cell_type": "code",
   "execution_count": 21,
   "metadata": {},
   "outputs": [],
   "source": [
    "switch_stream(switch0, switch1, 0)"
   ]
  },
  {
   "cell_type": "markdown",
   "metadata": {},
   "source": [
    "## Close VDMAs"
   ]
  },
  {
   "cell_type": "code",
   "execution_count": 12,
   "metadata": {},
   "outputs": [],
   "source": [
    "vdma0.writechannel.stop()\n",
    "vdma0.readchannel.stop()\n",
    "vdma1.writechannel.stop()\n",
    "vdma1.readchannel.stop()"
   ]
  },
  {
   "cell_type": "code",
   "execution_count": null,
   "metadata": {},
   "outputs": [],
   "source": []
  }
 ],
 "metadata": {
  "kernelspec": {
   "display_name": "Python 3",
   "language": "python",
   "name": "python3"
  },
  "language_info": {
   "codemirror_mode": {
    "name": "ipython",
    "version": 3
   },
   "file_extension": ".py",
   "mimetype": "text/x-python",
   "name": "python",
   "nbconvert_exporter": "python",
   "pygments_lexer": "ipython3",
   "version": "3.6.5"
  }
 },
 "nbformat": 4,
 "nbformat_minor": 4
}
