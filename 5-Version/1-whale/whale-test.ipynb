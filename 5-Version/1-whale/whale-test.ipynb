{
 "cells": [
  {
   "cell_type": "code",
   "execution_count": 1,
   "metadata": {},
   "outputs": [],
   "source": [
    "import keras\n",
    "import cv2\n",
    "import numpy as np\n",
    "import pandas as pd\n"
   ]
  },
  {
   "cell_type": "code",
   "execution_count": 2,
   "metadata": {},
   "outputs": [],
   "source": [
    "# -*- coding: UTF-8 -*-\n",
    "# https://blog.csdn.net/u013832707/article/details/73608504\n",
    "import sys\n",
    "\n",
    "class ShowProcess():\n",
    "    \"\"\"\n",
    "    显示处理进度的类\n",
    "    调用该类相关函数即可实现处理进度的显示\n",
    "    \"\"\"\n",
    "    i = 0 # 当前的处理进度\n",
    "    max_steps = 0 # 总共需要处理的次数\n",
    "    max_arrow = 50 #进度条的长度\n",
    "    infoDone = 'done'\n",
    "\n",
    "    # 初始化函数，需要知道总共的处理次数\n",
    "    def __init__(self, max_steps, infoDone = 'Done'):\n",
    "        self.max_steps = max_steps\n",
    "        self.i = 0\n",
    "        self.infoDone = infoDone\n",
    "\n",
    "    # 显示函数，根据当前的处理进度i显示进度\n",
    "    # 效果为[>>>>>>>>>>>>>>>>>>>>>>>>>>>>>>>>>>>>>>>>>>>>>>>>>>]100.00%\n",
    "    def show_process(self, i=None):\n",
    "        if i is not None:\n",
    "            self.i = i\n",
    "        else:\n",
    "            self.i += 1\n",
    "        num_arrow = int(self.i * self.max_arrow / self.max_steps) #计算显示多少个'>'\n",
    "        num_line = self.max_arrow - num_arrow #计算显示多少个'-'\n",
    "        percent = self.i * 100.0 / self.max_steps #计算完成进度，格式为xx.xx%\n",
    "        process_bar = '[' + '>' * num_arrow + '-' * num_line + ']'\\\n",
    "                      + '%.2f' % percent + '%' + '\\r' #带输出的字符串，'\\r'表示不换行回到最左边\n",
    "        sys.stdout.write(process_bar) #这两句打印字符到终端\n",
    "        sys.stdout.flush()\n",
    "        if self.i >= self.max_steps:\n",
    "            self.close()\n",
    "\n",
    "    def close(self):\n",
    "        print('')\n",
    "        print(self.infoDone)\n",
    "        self.i = 0\n"
   ]
  },
  {
   "cell_type": "code",
   "execution_count": 3,
   "metadata": {},
   "outputs": [],
   "source": [
    "# 读取模型model\n",
    "model_name='whale-model-2023-6-10'\n",
    "model = keras.models.load_model(model_name+'.h5')\n",
    "# 打印模型概述\n",
    "# model.summary()"
   ]
  },
  {
   "cell_type": "code",
   "execution_count": 4,
   "metadata": {},
   "outputs": [],
   "source": [
    "image_label_30=list() # 创建空列表，用于存储图像-标签对\n",
    "\n",
    "f=open('test_image_label_6_13.txt','r')\n",
    "for i in f.readlines():\n",
    "    image_label_30.append(i.split('\\n')[0]) # 读取图像-标签对\n",
    "f.close()\n",
    "for i in range(len(image_label_30)):\n",
    "    image_label_30[i]=image_label_30[i].split(' ') # 预处理图像-标签对"
   ]
  },
  {
   "cell_type": "code",
   "execution_count": 113,
   "metadata": {},
   "outputs": [],
   "source": [
    "def model_test(image_name,label):\n",
    "    # 加载测试数据并进行预处理\n",
    "    i_path='./cropped_train_images/'+image_name\n",
    "    test_data = cv2.resize(cv2.imread(i_path,cv2.IMREAD_GRAYSCALE),(64,64))\n",
    "    test_data=np.expand_dims(test_data, axis=-1)\n",
    "    # 调整输入数据的形状\n",
    "    if len(test_data.shape) == 3:\n",
    "        # 单个图像，形状为(64, 64, 1)\n",
    "        test_data = np.expand_dims(test_data, axis=0)\n",
    "    elif len(test_data.shape) == 4:\n",
    "        # 多个图像，形状为(N, 64, 64, 1)\n",
    "        pass  # 数据已经符合要求\n",
    "    else:\n",
    "        raise ValueError(\"Invalid input shape\")\n",
    "    # 进行预测\n",
    "    predictions = model.predict(test_data, verbose=0)\n",
    "    # 判断结果正误\n",
    "    if(predictions.argmax()==int(label)):\n",
    "        return(1)\n",
    "    else:\n",
    "        return(0)"
   ]
  },
  {
   "cell_type": "code",
   "execution_count": 7,
   "metadata": {},
   "outputs": [
    {
     "name": "stdout",
     "output_type": "stream",
     "text": [
      "[>>>>>>>>>>>>>>>>>>>>>>>>>>>>>>>>>>>>>>>>>>>>>>>>>>]100.00%\n",
      "Processing Finished\n"
     ]
    }
   ],
   "source": [
    "# 测试集\n",
    "ADD_accurate=0\n",
    "process_bar = ShowProcess(len(image_label_30), 'Processing Finished')\n",
    "for i in range(len(image_label_30)):\n",
    "   ADD_accurate+=model_test(image_label_30[i][0],image_label_30[i][1])\n",
    "   process_bar.show_process()\n",
    "   \n"
   ]
  },
  {
   "cell_type": "code",
   "execution_count": 11,
   "metadata": {},
   "outputs": [
    {
     "name": "stdout",
     "output_type": "stream",
     "text": [
      "测试集准确数 6152\n",
      "测试集准确率 0.48\n"
     ]
    }
   ],
   "source": [
    "print('测试集 准确数',ADD_accurate)\n",
    "print('测试集 准确率',np.round(ADD_accurate/len(image_label_30),2))"
   ]
  },
  {
   "cell_type": "code",
   "execution_count": 5,
   "metadata": {},
   "outputs": [],
   "source": [
    "image_label_30=list() # 创建空列表，用于存储图像-标签对\n",
    "\n",
    "f=open('train_image_label_6_13.txt','r')\n",
    "for i in f.readlines():\n",
    "    image_label_30.append(i.split('\\n')[0]) # 读取图像-标签对\n",
    "f.close()\n",
    "for i in range(len(image_label_30)):\n",
    "    image_label_30[i]=image_label_30[i].split(' ') # 预处理图像-标签对"
   ]
  },
  {
   "cell_type": "code",
   "execution_count": 12,
   "metadata": {},
   "outputs": [
    {
     "name": "stdout",
     "output_type": "stream",
     "text": [
      "[>>>>>>>>>>>>>>>>>>>>>>>>>>>>>>>>>>>>>>>>>>>>>>>>>>]100.00%\n",
      "Processing Finished\n"
     ]
    }
   ],
   "source": [
    "# 训练集 前半\n",
    "ADD_accurate=0\n",
    "process_bar = ShowProcess(int(len(image_label_30)/2), 'Processing Finished')\n",
    "for i in range(int(len(image_label_30)/2)):\n",
    "   ADD_accurate+=model_test(image_label_30[i][0],image_label_30[i][1])\n",
    "   process_bar.show_process()"
   ]
  },
  {
   "cell_type": "code",
   "execution_count": 13,
   "metadata": {},
   "outputs": [
    {
     "name": "stdout",
     "output_type": "stream",
     "text": [
      "训练集-前半 准确数 10733\n",
      "训练集-前半 准确率 0.56\n"
     ]
    }
   ],
   "source": [
    "print('训练集-前半 准确数',ADD_accurate)\n",
    "print('训练集-前半 准确率',np.round(ADD_accurate/int(len(image_label_30)/2)*100,2))"
   ]
  },
  {
   "cell_type": "code",
   "execution_count": 6,
   "metadata": {},
   "outputs": [
    {
     "name": "stdout",
     "output_type": "stream",
     "text": [
      "[>>>>>>>>>>>>>>>>>>>>>>>>>>>>>>>>>>>>>>>>>>>>>>>>>>]100.00%\n",
      "Processing Finished\n"
     ]
    }
   ],
   "source": [
    "# 训练集 后半\n",
    "ADD_accurate=0\n",
    "process_bar = ShowProcess(int(len(image_label_30)/2), 'Processing Finished')\n",
    "for i in range(int(len(image_label_30)/2)):\n",
    "   ADD_accurate+=model_test(image_label_30[i+int(len(image_label_30)/2)][0],image_label_30[i+int(len(image_label_30)/2)][1])\n",
    "   process_bar.show_process()"
   ]
  },
  {
   "cell_type": "code",
   "execution_count": 7,
   "metadata": {},
   "outputs": [
    {
     "name": "stdout",
     "output_type": "stream",
     "text": [
      "训练集-后半 准确数 10708\n",
      "训练集-后半 准确率 0.56\n"
     ]
    }
   ],
   "source": [
    "print('训练集-后半 准确数',ADD_accurate)\n",
    "print('训练集-后半 准确率',np.round(ADD_accurate/int(len(image_label_30)/2)*100,2))"
   ]
  },
  {
   "cell_type": "code",
   "execution_count": 13,
   "metadata": {},
   "outputs": [
    {
     "name": "stdout",
     "output_type": "stream",
     "text": [
      "训练集 准确数 21441\n",
      "训练集 准确率 56.02 %\n"
     ]
    }
   ],
   "source": [
    "print('训练集 准确数',10733+10708)\n",
    "print('训练集 准确率',np.round((10733+10708)/len(image_label_30)*100,2),'%')"
   ]
  },
  {
   "attachments": {},
   "cell_type": "markdown",
   "metadata": {},
   "source": [
    "### ==========分割线============="
   ]
  },
  {
   "cell_type": "code",
   "execution_count": 5,
   "metadata": {},
   "outputs": [],
   "source": [
    "name=['melon_headed_whale' # 已经分出的29个物种\n",
    ",'humpback_whale'\n",
    ",'false_killer_whale'\n",
    ",'bottlenose_dolphin'\n",
    ",'beluga'\n",
    ",'minke_whale'\n",
    ",'fin_whale'\n",
    ",'blue_whale'\n",
    ",'gray_whale'\n",
    ",'southern_right_whale'\n",
    ",'common_dolphin'\n",
    ",'kiler_whale'\n",
    ",'pilot_whale'\n",
    ",'dusky_dolphin'\n",
    ",'killer_whale'\n",
    ",'long_finned_pilot_whale'\n",
    ",'sei_whale'\n",
    ",'spinner_dolphin'\n",
    ",'cuviers_beaked_whale'\n",
    ",'spotted_dolphin'\n",
    ",'globis'\n",
    ",'brydes_whale'\n",
    ",'commersons_dolphin'\n",
    ",'white_sided_dolphin'\n",
    ",'short_finned_pilot_whale'\n",
    ",'rough_toothed_dolphin'\n",
    ",'pantropic_spotted_dolphin'\n",
    ",'pygmy_killer_whale'\n",
    ",'frasiers_dolphin']\n"
   ]
  },
  {
   "cell_type": "code",
   "execution_count": 57,
   "metadata": {},
   "outputs": [
    {
     "name": "stdout",
     "output_type": "stream",
     "text": [
      "0 93d7d0699a1216.jpg melon_headed_whale\n",
      "1 54b9dba2604930.jpg humpback_whale\n",
      "2 2729fe7ad6245f.jpg false_killer_whale\n",
      "3 6c39c44f811efe.jpg bottlenose_dolphin\n",
      "4 d4135027a5647b.jpg beluga\n",
      "5 67338191a6d07d.jpg minke_whale\n",
      "6 d497600106cae2.jpg fin_whale\n",
      "7 d7f47c7a713f91.jpg blue_whale\n",
      "8 d831c5d3af3342.jpg gray_whale\n",
      "9 eafd6677c18db7.jpg southern_right_whale\n",
      "11 b69fb176f39fa0.jpg kiler_whale\n",
      "12 1707e63f92f03f.jpg pilot_whale\n",
      "13 cdfa1a63ed125a.jpg dusky_dolphin\n",
      "14 a0b9d49c67f664.jpg killer_whale\n",
      "15 6f6108b449daab.jpg long_finned_pilot_whale\n",
      "16 12df50e19a90ab.jpg sei_whale\n",
      "17 9b6e59ff6d2309.jpg spinner_dolphin\n",
      "18 35770005852302.jpg cuviers_beaked_whale\n",
      "19 975914ab797f11.jpg spotted_dolphin\n",
      "20 9443c5069ac1df.jpg globis\n",
      "22 c2a9fdd5401ebb.jpg commersons_dolphin\n",
      "23 19d93b543ff684.jpg white_sided_dolphin\n",
      "24 76592eacf0b914.jpg short_finned_pilot_whale\n",
      "27 b40969974439be.jpg pygmy_killer_whale\n"
     ]
    }
   ],
   "source": [
    "final_list=list()\n",
    "for i in range(29):\n",
    "    f=open('./species-test/{}.txt'.format(name[i]),'r')\n",
    "    for speceis_image in f.readlines():\n",
    "        speceis_image=speceis_image.split('\\n')[0]\n",
    "        if model_test(speceis_image.split('\\n')[0],str(i))==1:\n",
    "            print(i,speceis_image,name[i])\n",
    "            # final_list.append(speceis_image)\n",
    "            break\n",
    "        else:\n",
    "            continue\n",
    "        # else:\n",
    "        #     print('not found in species[{}]'.format(name[i]))\n",
    "    f.close()\n",
    "    "
   ]
  },
  {
   "cell_type": "code",
   "execution_count": 125,
   "metadata": {},
   "outputs": [
    {
     "name": "stdout",
     "output_type": "stream",
     "text": [
      "10 0938bb32569bed.jpg melon_headed_whale\n",
      "21 7a7d0e488c79c6.jpg humpback_whale\n",
      "25 11bbf6dc02655d.jpg false_killer_whale\n",
      "26 703317a1fca5c7.jpg bottlenose_dolphin\n",
      "28 c37aef077d41d1.jpg beluga\n"
     ]
    }
   ],
   "source": [
    "final_list_plus=[10,21,25,26,28]\n",
    "\n",
    "for i in range(5):\n",
    "    f=open('./species-train/{}.txt'.format(name[final_list_plus[i]]),'r')\n",
    "    for speceis_image in f.readlines():\n",
    "        speceis_image=speceis_image.split('\\n')[0]\n",
    "        if model_test(speceis_image.split('\\n')[0],final_list_plus[i]):\n",
    "            print(final_list_plus[i],speceis_image,name[i])\n",
    "            # final_list_plus[i]=speceis_image\n",
    "            break\n",
    "    f.close()\n"
   ]
  },
  {
   "cell_type": "code",
   "execution_count": null,
   "metadata": {},
   "outputs": [],
   "source": [
    "final_list_plus"
   ]
  },
  {
   "cell_type": "code",
   "execution_count": 123,
   "metadata": {},
   "outputs": [
    {
     "data": {
      "text/plain": [
       "1"
      ]
     },
     "execution_count": 123,
     "metadata": {},
     "output_type": "execute_result"
    }
   ],
   "source": [
    "model_test('c37aef077d41d1.jpg','28') # 'frasiers_dolphin'"
   ]
  },
  {
   "cell_type": "code",
   "execution_count": null,
   "metadata": {},
   "outputs": [],
   "source": []
  }
 ],
 "metadata": {
  "kernelspec": {
   "display_name": "tensorflow",
   "language": "python",
   "name": "python3"
  },
  "language_info": {
   "codemirror_mode": {
    "name": "ipython",
    "version": 3
   },
   "file_extension": ".py",
   "mimetype": "text/x-python",
   "name": "python",
   "nbconvert_exporter": "python",
   "pygments_lexer": "ipython3",
   "version": "3.9.16"
  },
  "orig_nbformat": 4
 },
 "nbformat": 4,
 "nbformat_minor": 2
}
