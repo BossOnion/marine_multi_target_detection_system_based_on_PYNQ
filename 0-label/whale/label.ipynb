{
 "cells": [
  {
   "cell_type": "code",
   "execution_count": 1,
   "metadata": {},
   "outputs": [],
   "source": [
    "import pandas as pd\n",
    "import numpy as np"
   ]
  },
  {
   "cell_type": "code",
   "execution_count": 3,
   "metadata": {},
   "outputs": [],
   "source": [
    "name=['melon_headed_whale' # 已经分出的29个物种\n",
    ",'humpback_whale'\n",
    ",'false_killer_whale'\n",
    ",'bottlenose_dolphin'\n",
    ",'beluga'\n",
    ",'minke_whale'\n",
    ",'fin_whale'\n",
    ",'blue_whale'\n",
    ",'gray_whale'\n",
    ",'southern_right_whale'\n",
    ",'common_dolphin'\n",
    ",'kiler_whale'\n",
    ",'pilot_whale'\n",
    ",'dusky_dolphin'\n",
    ",'killer_whale'\n",
    ",'long_finned_pilot_whale'\n",
    ",'sei_whale'\n",
    ",'spinner_dolphin'\n",
    ",'cuviers_beaked_whale'\n",
    ",'spotted_dolphin'\n",
    ",'globis'\n",
    ",'brydes_whale'\n",
    ",'commersons_dolphin'\n",
    ",'white_sided_dolphin'\n",
    ",'short_finned_pilot_whale'\n",
    ",'rough_toothed_dolphin'\n",
    ",'pantropic_spotted_dolphin'\n",
    ",'pygmy_killer_whale'\n",
    ",'frasiers_dolphin']\n"
   ]
  },
  {
   "cell_type": "code",
   "execution_count": 7,
   "metadata": {},
   "outputs": [],
   "source": [
    "test_image_label=list()\n",
    "train_image_label=list()\n",
    "f1=open('test_image_label_6_13.txt','r')\n",
    "f2=open('train_image_label_6_13.txt','r')\n",
    "for i in f1.readlines():\n",
    "    test_image_label.append(i.split('\\n')[0])\n",
    "for i in f2.readlines():\n",
    "    train_image_label.append(i.split('\\n')[0])\n",
    "f1.close()\n",
    "f2.close()\n"
   ]
  },
  {
   "cell_type": "code",
   "execution_count": 12,
   "metadata": {},
   "outputs": [],
   "source": [
    "for j in range(29):\n",
    "    f=open('./species-test/{}.txt'.format(name[j]),'w')\n",
    "    for i in test_image_label:\n",
    "        if i.split(' ')[1]==str(j):\n",
    "            f.write(i.split(' ')[0]+'\\n')\n",
    "    f.close()\n",
    "\n",
    "for j in range(29):\n",
    "    f=open('./species-train/{}.txt'.format(name[j]),'w')\n",
    "    for i in train_image_label:\n",
    "        if i.split(' ')[1]==str(j):\n",
    "            f.write(i.split(' ')[0]+'\\n')\n",
    "    f.close()\n",
    "\n"
   ]
  },
  {
   "cell_type": "code",
   "execution_count": null,
   "metadata": {},
   "outputs": [],
   "source": []
  }
 ],
 "metadata": {
  "kernelspec": {
   "display_name": "base",
   "language": "python",
   "name": "python3"
  },
  "language_info": {
   "codemirror_mode": {
    "name": "ipython",
    "version": 3
   },
   "file_extension": ".py",
   "mimetype": "text/x-python",
   "name": "python",
   "nbconvert_exporter": "python",
   "pygments_lexer": "ipython3",
   "version": "3.9.16"
  },
  "orig_nbformat": 4
 },
 "nbformat": 4,
 "nbformat_minor": 2
}
