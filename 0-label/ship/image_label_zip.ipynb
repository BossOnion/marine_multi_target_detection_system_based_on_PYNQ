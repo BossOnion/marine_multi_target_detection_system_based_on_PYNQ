{
 "cells": [
  {
   "cell_type": "code",
   "execution_count": 9,
   "metadata": {},
   "outputs": [],
   "source": [
    "import numpy as np"
   ]
  },
  {
   "cell_type": "code",
   "execution_count": 12,
   "metadata": {},
   "outputs": [],
   "source": [
    "test_image=list()\n",
    "test_label=list()\n",
    "train_image=list()\n",
    "train_label=list()\n",
    "f1=open('new_test_image.txt','r')\n",
    "f2=open('new_test_label.txt','r')\n",
    "f3=open('new_train_image.txt','r')\n",
    "f4=open('new_train_label.txt','r')\n",
    "\n",
    "for i in f1.readlines():\n",
    "    test_image.append(i.split('\\n')[0])\n",
    "for i in f2.readlines():\n",
    "    test_label.append(i.split('\\n')[0])\n",
    "for i in f3.readlines():\n",
    "    train_image.append(i.split('\\n')[0])\n",
    "for i in f4.readlines():\n",
    "    train_label.append(i.split('\\n')[0])\n",
    "f1.close()\n",
    "f2.close()\n",
    "f3.close()\n",
    "f4.close()"
   ]
  },
  {
   "cell_type": "code",
   "execution_count": 13,
   "metadata": {},
   "outputs": [],
   "source": [
    "test_zip=list(zip(test_image,test_label))\n",
    "train_zip=list(zip(train_image,train_label))"
   ]
  },
  {
   "cell_type": "code",
   "execution_count": 17,
   "metadata": {},
   "outputs": [],
   "source": [
    "f=open('ship_test_image_label.txt','w')\n",
    "for i in range(len(test_zip)):\n",
    "    f.write(test_zip[i][0]+' '+test_zip[i][1]+'\\n')\n",
    "f.close()\n",
    "\n",
    "f=open('ship_train_image_label.txt','w')\n",
    "for i in range(len(train_zip)):\n",
    "    f.write(train_zip[i][0]+' '+train_zip[i][1]+'\\n')\n",
    "f.close()"
   ]
  }
 ],
 "metadata": {
  "kernelspec": {
   "display_name": "tensorflow",
   "language": "python",
   "name": "python3"
  },
  "language_info": {
   "codemirror_mode": {
    "name": "ipython",
    "version": 3
   },
   "file_extension": ".py",
   "mimetype": "text/x-python",
   "name": "python",
   "nbconvert_exporter": "python",
   "pygments_lexer": "ipython3",
   "version": "3.9.16"
  },
  "orig_nbformat": 4
 },
 "nbformat": 4,
 "nbformat_minor": 2
}
