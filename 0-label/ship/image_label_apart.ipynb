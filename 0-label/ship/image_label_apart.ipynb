{
 "cells": [
  {
   "cell_type": "code",
   "execution_count": 1,
   "metadata": {},
   "outputs": [],
   "source": [
    "import pandas as pd\n",
    "import numpy as np"
   ]
  },
  {
   "cell_type": "code",
   "execution_count": 2,
   "metadata": {},
   "outputs": [],
   "source": [
    "name=['Cargo' # 已经分出的29个物种\n",
    ",'Military'\n",
    ",'Carrier'\n",
    ",'Cruise'\n",
    ",'Tankers']"
   ]
  },
  {
   "cell_type": "code",
   "execution_count": 3,
   "metadata": {},
   "outputs": [],
   "source": [
    "test_image_label=list()\n",
    "train_image_label=list()\n",
    "f1=open('ship_test_image_label.txt','r')\n",
    "f2=open('ship_train_image_label.txt','r')\n",
    "for i in f1.readlines():\n",
    "    test_image_label.append(i.split('\\n')[0])\n",
    "for i in f2.readlines():\n",
    "    train_image_label.append(i.split('\\n')[0])\n",
    "f1.close()\n",
    "f2.close()\n",
    "\n",
    "\n"
   ]
  },
  {
   "cell_type": "code",
   "execution_count": 5,
   "metadata": {},
   "outputs": [],
   "source": [
    "for j in range(5):\n",
    "    f=open('./ship-test/{}.txt'.format(name[j]),'w')\n",
    "    for i in test_image_label:\n",
    "        if i.split(' ')[1]==str(j):\n",
    "            f.write(i.split(' ')[0]+'\\n')\n",
    "    f.close()\n",
    "\n",
    "for j in range(5):\n",
    "    f=open('./ship-train/{}.txt'.format(name[j]),'w')\n",
    "    for i in train_image_label:\n",
    "        if i.split(' ')[1]==str(j):\n",
    "            f.write(i.split(' ')[0]+'\\n')\n",
    "    f.close()\n",
    "\n"
   ]
  },
  {
   "cell_type": "code",
   "execution_count": null,
   "metadata": {},
   "outputs": [],
   "source": []
  }
 ],
 "metadata": {
  "kernelspec": {
   "display_name": "base",
   "language": "python",
   "name": "python3"
  },
  "language_info": {
   "codemirror_mode": {
    "name": "ipython",
    "version": 3
   },
   "file_extension": ".py",
   "mimetype": "text/x-python",
   "name": "python",
   "nbconvert_exporter": "python",
   "pygments_lexer": "ipython3",
   "version": "3.9.16"
  },
  "orig_nbformat": 4
 },
 "nbformat": 4,
 "nbformat_minor": 2
}
